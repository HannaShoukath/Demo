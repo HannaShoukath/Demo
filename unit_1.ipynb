{
  "nbformat": 4,
  "nbformat_minor": 0,
  "metadata": {
    "colab": {
      "provenance": [],
      "authorship_tag": "ABX9TyMFxC0BF7LALAFTAZjTaTsF",
      "include_colab_link": true
    },
    "kernelspec": {
      "name": "python3",
      "display_name": "Python 3"
    },
    "language_info": {
      "name": "python"
    }
  },
  "cells": [
    {
      "cell_type": "markdown",
      "metadata": {
        "id": "view-in-github",
        "colab_type": "text"
      },
      "source": [
        "<a href=\"https://colab.research.google.com/github/HannaShoukath/Demo/blob/main/unit_1.ipynb\" target=\"_parent\"><img src=\"https://colab.research.google.com/assets/colab-badge.svg\" alt=\"Open In Colab\"/></a>"
      ]
    },
    {
      "cell_type": "code",
      "execution_count": null,
      "metadata": {
        "colab": {
          "base_uri": "https://localhost:8080/"
        },
        "id": "pD-cd53zpir0",
        "outputId": "8e22e868-c6c8-48dd-ef66-3383df68962b"
      },
      "outputs": [
        {
          "output_type": "stream",
          "name": "stdout",
          "text": [
            "()\n",
            "('Geeks', 'For')\n",
            "<class 'tuple'>\n"
          ]
        }
      ],
      "source": [
        "T1=()\n",
        "print(T1)\n",
        "T1=('Geeks','For')\n",
        "print(T1)\n",
        "T1=(0,1,2,3,4.5)\n",
        "T2=('python','geek')\n",
        "T3='python', #THE CREATION OF A PYTHON TUPLE WITHOUT THE USE OF PARANTHESES IS KNOWN AS TUPLE PACKING\n",
        "print(type(T3))"
      ]
    },
    {
      "cell_type": "code",
      "source": [
        "t1=(1,2,3,4,5)\n",
        "print(t1[0])\n",
        "print(t1[-1])\n",
        "print(t1[-3])\n"
      ],
      "metadata": {
        "colab": {
          "base_uri": "https://localhost:8080/"
        },
        "id": "Uuf99NUAszr8",
        "outputId": "6a8c2e19-0221-431c-8414-f56a16912d10"
      },
      "execution_count": null,
      "outputs": [
        {
          "output_type": "stream",
          "name": "stdout",
          "text": [
            "1\n",
            "5\n",
            "3\n"
          ]
        }
      ]
    },
    {
      "cell_type": "code",
      "source": [
        "print(T2[1])"
      ],
      "metadata": {
        "colab": {
          "base_uri": "https://localhost:8080/"
        },
        "id": "Gm96Yvmwt-vP",
        "outputId": "0daa3dbc-04b5-4f8f-9745-41862430c7e7"
      },
      "execution_count": null,
      "outputs": [
        {
          "output_type": "stream",
          "name": "stdout",
          "text": [
            "geek\n"
          ]
        }
      ]
    },
    {
      "cell_type": "code",
      "source": [
        "d=True\n",
        "r=False\n",
        "y=true #boolean values are case sensitive hence true with small t will show an error\n",
        "print(type(d))\n",
        "print(type(r))\n",
        "print(type(y))\n",
        "\n"
      ],
      "metadata": {
        "colab": {
          "base_uri": "https://localhost:8080/",
          "height": 211
        },
        "id": "1BXG0WCkuSVH",
        "outputId": "19d38bcd-cc86-41ba-e4b5-e9d607c63546"
      },
      "execution_count": null,
      "outputs": [
        {
          "output_type": "error",
          "ename": "NameError",
          "evalue": "name 'true' is not defined",
          "traceback": [
            "\u001b[0;31m---------------------------------------------------------------------------\u001b[0m",
            "\u001b[0;31mNameError\u001b[0m                                 Traceback (most recent call last)",
            "\u001b[0;32m<ipython-input-11-5521c2f2ba4d>\u001b[0m in \u001b[0;36m<cell line: 3>\u001b[0;34m()\u001b[0m\n\u001b[1;32m      1\u001b[0m \u001b[0md\u001b[0m\u001b[0;34m=\u001b[0m\u001b[0;32mTrue\u001b[0m\u001b[0;34m\u001b[0m\u001b[0;34m\u001b[0m\u001b[0m\n\u001b[1;32m      2\u001b[0m \u001b[0mr\u001b[0m\u001b[0;34m=\u001b[0m\u001b[0;32mFalse\u001b[0m\u001b[0;34m\u001b[0m\u001b[0;34m\u001b[0m\u001b[0m\n\u001b[0;32m----> 3\u001b[0;31m \u001b[0my\u001b[0m\u001b[0;34m=\u001b[0m\u001b[0mtrue\u001b[0m \u001b[0;31m#boolean values are case sensitive hence true with small t will show an error\u001b[0m\u001b[0;34m\u001b[0m\u001b[0;34m\u001b[0m\u001b[0m\n\u001b[0m\u001b[1;32m      4\u001b[0m \u001b[0mprint\u001b[0m\u001b[0;34m(\u001b[0m\u001b[0mtype\u001b[0m\u001b[0;34m(\u001b[0m\u001b[0md\u001b[0m\u001b[0;34m)\u001b[0m\u001b[0;34m)\u001b[0m\u001b[0;34m\u001b[0m\u001b[0;34m\u001b[0m\u001b[0m\n\u001b[1;32m      5\u001b[0m \u001b[0mprint\u001b[0m\u001b[0;34m(\u001b[0m\u001b[0mtype\u001b[0m\u001b[0;34m(\u001b[0m\u001b[0mr\u001b[0m\u001b[0;34m)\u001b[0m\u001b[0;34m)\u001b[0m\u001b[0;34m\u001b[0m\u001b[0;34m\u001b[0m\u001b[0m\n",
            "\u001b[0;31mNameError\u001b[0m: name 'true' is not defined"
          ]
        }
      ]
    },
    {
      "cell_type": "code",
      "source": [
        " s1={} #curly braces simply means that is a dictionary,{}show s that s1 is a dictionary with zero elements\n",
        " print(type(s1))\n",
        " s2=set(s1) #to create a set with zero elements use the in built function set() and pass the variable s1\n",
        "print(type(s2))"
      ],
      "metadata": {
        "colab": {
          "base_uri": "https://localhost:8080/"
        },
        "id": "TEW96rFwwDch",
        "outputId": "61fc90bc-ac0a-4f7e-bddd-4626ca4d1fbe"
      },
      "execution_count": null,
      "outputs": [
        {
          "output_type": "stream",
          "name": "stdout",
          "text": [
            "<class 'dict'>\n",
            "<class 'set'>\n"
          ]
        }
      ]
    },
    {
      "cell_type": "code",
      "source": [
        "s1={\"geeksForGeeks\",10,6,10}\n",
        "print(s1)\n",
        "b=[\"geeks\",\"for\",\"geeks\"]\n",
        "s1=set(b)\n",
        "print(s1)\n",
        "s2={1,2,'geeks',4,'for',6,'geeks'}\n",
        "print(s2)"
      ],
      "metadata": {
        "colab": {
          "base_uri": "https://localhost:8080/"
        },
        "id": "IKG3Y4wR4MMX",
        "outputId": "0999b30c-56dc-407c-cb37-16d7d29df5f7"
      },
      "execution_count": null,
      "outputs": [
        {
          "output_type": "stream",
          "name": "stdout",
          "text": [
            "{10, 'geeksForGeeks', 6}\n",
            "{'for', 'geeks'}\n",
            "{1, 2, 'geeks', 4, 6, 'for'}\n"
          ]
        }
      ]
    },
    {
      "cell_type": "code",
      "source": [
        "s={\"apple\",\"banana\",\"cherry\"}\n",
        "for x in s: # here the variable c accesses each value in the set t checks if its present and prints it\n",
        "  print(x)\n",
        "print(\"cherry\" in s)   #in will give either true or false\n",
        "\n"
      ],
      "metadata": {
        "colab": {
          "base_uri": "https://localhost:8080/"
        },
        "id": "S46xEjaK5zU3",
        "outputId": "ff83988c-2487-4292-95d9-96a5f6cea713"
      },
      "execution_count": null,
      "outputs": [
        {
          "output_type": "stream",
          "name": "stdout",
          "text": [
            "cherry\n",
            "banana\n",
            "apple\n",
            "True\n"
          ]
        }
      ]
    },
    {
      "cell_type": "code",
      "source": [
        "r={}\n",
        "print(r)\n",
        "r={1:'geeks',2:'for',3:'geeks'}\n",
        "print(r)\n",
        "r={'Name':'geeks',1:[1,2,3,4]}\n",
        "print(r)\n",
        "r=dict({1:'geeks',2:'for',3:'geeks'})\n",
        "print(r)\n",
        "d={'b':'sahana',2:8,'e':3.5,6:'sahana'}#here the calues are same but the key is diff so the output will show both the values\n",
        "print(type(d))\n",
        "print(d)\n",
        "d={'b':'sahana',2:8,'e':3.5,'b':\"safwan\"}#as there are two same keys 'b' it will take only one\n",
        "print(d)\n"
      ],
      "metadata": {
        "colab": {
          "base_uri": "https://localhost:8080/"
        },
        "id": "exKq2kU4BxZS",
        "outputId": "0b92c628-6f87-4ce3-8bc2-fb393a1d2c4d"
      },
      "execution_count": null,
      "outputs": [
        {
          "output_type": "stream",
          "name": "stdout",
          "text": [
            "{}\n",
            "{1: 'geeks', 2: 'for', 3: 'geeks'}\n",
            "{'Name': 'geeks', 1: [1, 2, 3, 4]}\n",
            "{1: 'geeks', 2: 'for', 3: 'geeks'}\n",
            "<class 'dict'>\n",
            "{'b': 'sahana', 2: 8, 'e': 3.5, 6: 'safwan'}\n",
            "{'b': 'safwan', 2: 8, 'e': 3.5}\n"
          ]
        }
      ]
    },
    {
      "cell_type": "code",
      "source": [
        "b={1:'geeks','name':'for',3:'geeks'}\n",
        "print(\"accessing a element using key:\")\n",
        "print(b['name'])\n",
        "print(\"accessing a element using get:\")\n",
        "print(b.get(3))"
      ],
      "metadata": {
        "colab": {
          "base_uri": "https://localhost:8080/"
        },
        "id": "fVJJ3SjYi1fT",
        "outputId": "0b9f1596-f5ee-4a5a-e1fd-743b746aff9d"
      },
      "execution_count": null,
      "outputs": [
        {
          "output_type": "stream",
          "name": "stdout",
          "text": [
            "accessing a element using key:\n",
            "for\n",
            "accessing a element using get:\n",
            "geeks\n"
          ]
        }
      ]
    },
    {
      "cell_type": "code",
      "source": [
        "c='python'\n",
        "print(c)\n",
        "print(\"welcome to python classes\")\n",
        "name=\"hanna\"\n",
        "age=21\n",
        "print(\"name:\",name, \"age:\",age)\n",
        "print(\"name:\",name, \"\\nage:\",age)#\\n is used to print the next content the new line"
      ],
      "metadata": {
        "colab": {
          "base_uri": "https://localhost:8080/"
        },
        "id": "2YkRZD2Yrzy0",
        "outputId": "26f99f2d-8573-4446-9d25-d532fab57bdf"
      },
      "execution_count": null,
      "outputs": [
        {
          "output_type": "stream",
          "name": "stdout",
          "text": [
            "python\n",
            "welcome to python classes\n",
            "name: hanna age: 21\n",
            "name: hanna \n",
            "age: 21\n"
          ]
        }
      ]
    },
    {
      "cell_type": "code",
      "source": [
        "amount=150.7589\n",
        "print(\"amount:${:.2f}\".format(amount))#2f means after the decimal you want only two values,here format() is used to not only to print 2 values but also to round off\n",
        "a=print(\"we have {:n} chicken.\" .format(49))#n is to print something in between the string\n",
        "x=55\n",
        "b=print(\"we have {:n} chicken.\" .format(x))\n",
        "b=print(\"we have {:>} chicken.\" .format(x))\n",
        "b=print(\"we have {:<} chicken.\" .format(x))\n",
        "b=print(\"we have {:b} chicken.\" .format(x))#to convert to binary\n",
        "r=\"my name is {fname},i'm {age}\".format(fname=\"hanna\",age=21)\n",
        "print(r)\n",
        "r=\"my name is {0},i'm {1} and i am from {2}\" .format(\"hanna\",21,\"karwar\")#directly giving values into format,so here we are giving the indexes\n",
        "print(r)\n",
        "r=\"my name is {0},i'm from {2} and i am {1}\" .format(\"hanna\",21,\"karwar\")#interchanging the index\n",
        "print(r)\n",
        "r=\"my name is {},i'm {} and i am from {}\" .format(\"hanna\",21,\"karwar\")#no indexes so it takes in the order we give the value"
      ],
      "metadata": {
        "colab": {
          "base_uri": "https://localhost:8080/"
        },
        "id": "Idkrg6sJuVFr",
        "outputId": "e69fe7e9-cfd5-41f1-aea1-2002c7195dfb"
      },
      "execution_count": null,
      "outputs": [
        {
          "output_type": "stream",
          "name": "stdout",
          "text": [
            "amount:$150.76\n",
            "we have 49 chicken.\n",
            "we have 55 chicken.\n",
            "we have 55 chicken.\n",
            "we have 55 chicken.\n",
            "we have 110111 chicken.\n",
            "my name is hanna,i'm 21\n",
            "my name is hanna,i'm 21 and i am from karwar\n",
            "my name is hanna,i'm from karwar and i am 21\n"
          ]
        }
      ]
    },
    {
      "cell_type": "code",
      "source": [
        "print('hanna',end=\"shoukath\")#prints at the  end\n",
        "print(\"geeksforgeeks\")#it will not print in the next line because it has not assigned a variable ex: r=\n",
        "print(\"\\ngeeksforgeeks\")#prints in next line\n"
      ],
      "metadata": {
        "colab": {
          "base_uri": "https://localhost:8080/"
        },
        "id": "SKeOvV0j0_Dg",
        "outputId": "dd3806d9-54b8-4775-d880-3c98f04b368d"
      },
      "execution_count": null,
      "outputs": [
        {
          "output_type": "stream",
          "name": "stdout",
          "text": [
            "hannashoukathgeeksforgeeks\n",
            "\n",
            "geeksforgeeks\n"
          ]
        }
      ]
    },
    {
      "cell_type": "code",
      "source": [
        "print('g','f','h',sep='  ') #seperates the values using various variables\n",
        "print('g','f','h',sep='/')\n",
        "print('03','12','2002',sep='-')\n",
        "print('03','12','2002',sep='g')\n",
        "print('03','12','2002',sep='7')"
      ],
      "metadata": {
        "colab": {
          "base_uri": "https://localhost:8080/"
        },
        "id": "MCiM3L4Y2EQg",
        "outputId": "4e03843f-a7d4-43de-d3d7-1a3973250a61"
      },
      "execution_count": null,
      "outputs": [
        {
          "output_type": "stream",
          "name": "stdout",
          "text": [
            "g  f  h\n",
            "g/f/h\n",
            "03-12-2002\n",
            "03g12g2002\n",
            "0371272002\n"
          ]
        }
      ]
    },
    {
      "cell_type": "code",
      "source": [
        "name='hanan'\n",
        "age=16\n",
        "print(\"hello,my name is {name} and i am {age} year old\")\n",
        "print(f\"hello,my name is {name} and i am {age} year old\")#the values can be give inside the sentence itself\n"
      ],
      "metadata": {
        "colab": {
          "base_uri": "https://localhost:8080/"
        },
        "id": "jAgVmEKO3SRD",
        "outputId": "cdbcda0e-2967-4c00-c6cb-924d66a1eb43"
      },
      "execution_count": null,
      "outputs": [
        {
          "output_type": "stream",
          "name": "stdout",
          "text": [
            "hello,my name is {name} and i am {age} year old\n",
            "hello,my name is hanan and i am 16 year old\n"
          ]
        }
      ]
    },
    {
      "cell_type": "code",
      "source": [
        "num=5\n",
        "b=num+5\n",
        "print(\"the sum is %d\" %b)#integer\n",
        "b=num+5.5\n",
        "print(\"the sum is %f\" %b)#float\n",
        "num=\"hanna\"\n",
        "#b=num=5.2\n",
        "print(\"the name is %s\" %num)#string"
      ],
      "metadata": {
        "colab": {
          "base_uri": "https://localhost:8080/"
        },
        "id": "zHZ7i9Sx41Ym",
        "outputId": "2a4f77f8-3c90-4896-d2d6-8a8aa0a5f100"
      },
      "execution_count": null,
      "outputs": [
        {
          "output_type": "stream",
          "name": "stdout",
          "text": [
            "the sum is 10\n",
            "the sum is 10.500000\n",
            "the name is hanna\n"
          ]
        }
      ]
    },
    {
      "cell_type": "code",
      "source": [
        "name=input(\"enter your name\")\n",
        "print(\"my name is {}\".format(name))\n"
      ],
      "metadata": {
        "colab": {
          "base_uri": "https://localhost:8080/"
        },
        "id": "9C3Nfg-aVxoU",
        "outputId": "a5901154-3e73-4adb-d10f-868971fcd0d6"
      },
      "execution_count": null,
      "outputs": [
        {
          "name": "stdout",
          "output_type": "stream",
          "text": [
            "enter your namehanna\n"
          ]
        }
      ]
    },
    {
      "cell_type": "code",
      "source": [
        "#2 inputs at same time\n",
        "x,y=input(\"enter two values:\").split()#split function differentiates the two inputs given here split is seperated by space\n",
        "print(\"number of boys:\",x)\n",
        "print(\"number of girls:\",y)\n",
        "#3 inputs at the same time\n",
        "x,y,z=input(\"enter two values:\").split(\",\")#here split is seperated by comma\n",
        "print(\"number of boys:\",x)\n",
        "print(\"number of girls:\",y)\n",
        "print(\"number of kids:\",z)"
      ],
      "metadata": {
        "colab": {
          "base_uri": "https://localhost:8080/"
        },
        "id": "CaSr5hbSaPDp",
        "outputId": "00fc34e8-e9a2-4545-fd8f-32a83e86598e"
      },
      "execution_count": null,
      "outputs": [
        {
          "output_type": "stream",
          "name": "stdout",
          "text": [
            "enter two values:20 50\n",
            "number of boys: 20\n",
            "number of girls: 50\n",
            "enter two values:20,50,30\n",
            "number of boys: 20\n",
            "number of girls: 50\n",
            "number of kids: 30\n"
          ]
        }
      ]
    },
    {
      "cell_type": "code",
      "source": [
        "x,y=input(\"enter two values:\").split(\",\")\n",
        "z=x+y #it just concatenate the two numbers rather than  adding the two,because the input() takes the varibles as strings\n",
        "print(\"the sum is:\",z)\n",
        "x,y=input(\"enter two values:\").split(\",\")\n",
        "z=x+y\n",
        "c=int(x)#type casting is done here the type is converted from str to int\n",
        "d=int(y)\n",
        "z=c+d\n",
        "print(\"the sum is:\",z)\n",
        "\n"
      ],
      "metadata": {
        "colab": {
          "base_uri": "https://localhost:8080/"
        },
        "id": "bv381Cb7bdW0",
        "outputId": "1211b9d7-fb75-43ca-ef7a-acd2054931db"
      },
      "execution_count": null,
      "outputs": [
        {
          "output_type": "stream",
          "name": "stdout",
          "text": [
            "enter two values:10,20\n",
            "the sum is: 1020\n",
            "enter two values:10,20\n",
            "the sum is: 30\n"
          ]
        }
      ]
    },
    {
      "cell_type": "code",
      "source": [
        "a,b,c=map(int,input(\"enter three integers seperated by spaces:\").split())#the values given using input() will be converted to the datatype we specify by using the map()\n",
        "print(\"sum:\",a + b + c)#but in the map() function if one dtype is selected then the input should also be the given dtype here its integer\n",
        "print(type(a))"
      ],
      "metadata": {
        "colab": {
          "base_uri": "https://localhost:8080/"
        },
        "id": "IagLHP0qdEzJ",
        "outputId": "bbe41565-f868-403f-ec1c-b28801ab8a03"
      },
      "execution_count": null,
      "outputs": [
        {
          "output_type": "stream",
          "name": "stdout",
          "text": [
            "enter three integers seperated by spaces:10 20 30\n",
            "sum: 60\n",
            "<class 'int'>\n"
          ]
        }
      ]
    },
    {
      "cell_type": "code",
      "source": [
        "a,b,c=map(float,input(\"enter three integers seperated by spaces:\").split())#the values given using input() will be converted to the datatype we specify by using the map()\n",
        "print(\"sum:\",a + b + c)#but in the map() function if one dtype is selected then the input should also be the given dtype here its integer\n",
        "print(type(a))\n",
        "a,b,c=map(float,input(\"enter three integers seperated by spaces:\").split())#the values given using input() will be converted to the datatype we specify by using the map()\n",
        "print(\"sum:\",a + b + c)#but in the map() function if one dtype is selected then the input should also be the given dtype here its float\n",
        "print(type(a))"
      ],
      "metadata": {
        "id": "OoPNbQHUdEvz",
        "colab": {
          "base_uri": "https://localhost:8080/"
        },
        "outputId": "8f4e7b7d-d656-416d-f5c9-377bf00a09c2"
      },
      "execution_count": null,
      "outputs": [
        {
          "output_type": "stream",
          "name": "stdout",
          "text": [
            "enter three integers seperated by spaces:20 50 20 \n",
            "sum: 90.0\n",
            "<class 'float'>\n",
            "enter three integers seperated by spaces:20.5 20.6 20.7\n",
            "sum: 61.8\n",
            "<class 'float'>\n"
          ]
        }
      ]
    },
    {
      "cell_type": "code",
      "source": [
        "#python keywords\n",
        "import keyword# keyword is a module which has got many attributes ex: kwlist\n",
        "print(keyword.kwlist)"
      ],
      "metadata": {
        "id": "mj0rrvlKjBNC",
        "outputId": "6cd54fd4-acdb-4ff0-ead3-3aa30a2e9dac",
        "colab": {
          "base_uri": "https://localhost:8080/"
        }
      },
      "execution_count": null,
      "outputs": [
        {
          "output_type": "stream",
          "name": "stdout",
          "text": [
            "['False', 'None', 'True', 'and', 'as', 'assert', 'async', 'await', 'break', 'class', 'continue', 'def', 'del', 'elif', 'else', 'except', 'finally', 'for', 'from', 'global', 'if', 'import', 'in', 'is', 'lambda', 'nonlocal', 'not', 'or', 'pass', 'raise', 'return', 'try', 'while', 'with', 'yield']\n"
          ]
        }
      ]
    },
    {
      "cell_type": "code",
      "source": [
        "#MULTI WORD VARIABLE NAMES\n",
        "#1 CAMEL CASE\n",
        "myVariableName=\"Hanna\"\n",
        "#2 PASCAL CASE\n",
        "MyVariableName=\"Shafna\"\n",
        "#3 SNAKE CASE\n",
        "my_variable_name=\"Sneha\"\n"
      ],
      "metadata": {
        "id": "NA4jHj5gAK4D"
      },
      "execution_count": null,
      "outputs": []
    },
    {
      "cell_type": "code",
      "source": [
        "#is , is not\n",
        "num1=5\n",
        "num2=5\n",
        "lst1=[1,2,3]\n",
        "lst2=[1,2,3]\n",
        "lst3=lst1\n",
        "str1=\"hello world\"\n",
        "str2=\"hello world\"\n",
        "print(num1 is num2)\n",
        "print(lst1 is lst2)\n",
        "print(lst1 is lst3)\n",
        "print(str1 is str2)\n",
        "num1=5\n",
        "num2=5\n",
        "lst1=[1,2,3]\n",
        "lst2=[1,2,3]\n",
        "lst3=lst1\n",
        "str1=\"hello world\"\n",
        "str2=\"hello world\"\n",
        "print(num1 is not num2)\n",
        "print(lst1 is not lst2)\n",
        "print(lst1 is not lst3)\n",
        "print(str1 is not str2)\n",
        "\n",
        "\n"
      ],
      "metadata": {
        "id": "RhT_bN_aGF4U",
        "colab": {
          "base_uri": "https://localhost:8080/"
        },
        "outputId": "a79671f6-d17c-4603-ddbd-78ca7af1f44c"
      },
      "execution_count": null,
      "outputs": [
        {
          "output_type": "stream",
          "name": "stdout",
          "text": [
            "True\n",
            "False\n",
            "True\n",
            "False\n",
            "False\n",
            "True\n",
            "False\n",
            "True\n"
          ]
        }
      ]
    },
    {
      "cell_type": "code",
      "source": [
        "#diff between '==' and 'is'\n",
        "lst1=[1,2,3]\n",
        "lst2=[1,2,3]\n",
        "print(lst1 is lst2)\n",
        "print(lst1==lst2)\n"
      ],
      "metadata": {
        "colab": {
          "base_uri": "https://localhost:8080/"
        },
        "id": "CXb12Z5Qzx1V",
        "outputId": "a8915586-dc2f-42de-eb1d-6e6343e4ab5c"
      },
      "execution_count": null,
      "outputs": [
        {
          "output_type": "stream",
          "name": "stdout",
          "text": [
            "False\n",
            "True\n"
          ]
        }
      ]
    },
    {
      "cell_type": "code",
      "source": [
        "#in\n",
        "\"g\" in \"GeeksforGeeks\""
      ],
      "metadata": {
        "colab": {
          "base_uri": "https://localhost:8080/"
        },
        "id": "t6xX3V312bik",
        "outputId": "3123992b-fcd0-4671-bb08-f2e5b4e88df5"
      },
      "execution_count": null,
      "outputs": [
        {
          "output_type": "execute_result",
          "data": {
            "text/plain": [
              "False"
            ]
          },
          "metadata": {},
          "execution_count": 8
        }
      ]
    },
    {
      "cell_type": "code",
      "source": [
        "\"Geeks\"in ['Geeks','For','Geeks']"
      ],
      "metadata": {
        "colab": {
          "base_uri": "https://localhost:8080/"
        },
        "id": "AWs-8Uf_3KI5",
        "outputId": "3e87efe2-de47-4620-ced9-33b1224c0015"
      },
      "execution_count": null,
      "outputs": [
        {
          "output_type": "execute_result",
          "data": {
            "text/plain": [
              "True"
            ]
          },
          "metadata": {},
          "execution_count": 4
        }
      ]
    },
    {
      "cell_type": "code",
      "source": [
        "dict1={1:'Geeks',2:'for',3:'Geeks'}\n",
        "3 in dict1"
      ],
      "metadata": {
        "colab": {
          "base_uri": "https://localhost:8080/"
        },
        "id": "V0rdpxLW3NWX",
        "outputId": "3e9eaf28-c6e8-4755-9994-a180d0a25d95"
      },
      "execution_count": null,
      "outputs": [
        {
          "output_type": "execute_result",
          "data": {
            "text/plain": [
              "True"
            ]
          },
          "metadata": {},
          "execution_count": 7
        }
      ]
    },
    {
      "cell_type": "code",
      "source": [
        "\"Geeks\" not   in ['Geeks','For','Geeks']"
      ],
      "metadata": {
        "colab": {
          "base_uri": "https://localhost:8080/"
        },
        "id": "pq0MBHTG3YPE",
        "outputId": "053c724d-fb2b-4b06-abc8-a403302cceb2"
      },
      "execution_count": null,
      "outputs": [
        {
          "output_type": "execute_result",
          "data": {
            "text/plain": [
              "False"
            ]
          },
          "metadata": {},
          "execution_count": 9
        }
      ]
    },
    {
      "cell_type": "code",
      "source": [
        "#ARITHMETIC EXPRESSION\n",
        "X=44\n",
        "Y=55\n",
        "Z=74\n",
        "ADD=(X+Y)*Z\n",
        "SUB=X-Y\n",
        "print(ADD)\n",
        "print(SUB)\n",
        "#INTEGRAL EXPRESSIONS\n",
        "A=13\n",
        "B=5.0\n",
        "C=A+int(B)\n",
        "print(C)\n",
        "#FLOATING EXPRESSION\n",
        "M=13.0\n",
        "N=6\n",
        "L=M/N\n",
        "print(L)\n",
        "#RELATIONAL EXPRESSION\n",
        "T=21\n",
        "R=13\n",
        "W=40\n",
        "K=37\n",
        "V=(T+R)>=(W-K)\n",
        "print(V)\n",
        "#LOGICAL EXPRESSIONS\n",
        "P=(10==9)\n",
        "Q=(7>5)\n",
        "R= P and Q\n",
        "S=P and Q\n",
        "T= not P\n",
        "print(R)\n",
        "print(S)\n",
        "print(T)\n",
        "#BTIWISE EXPRESSIONS\n",
        "A=12\n",
        "X=A>>2\n",
        "Y=A<<1\n",
        "print(X,Y)\n",
        "A=16\n",
        "B=12\n",
        "C=A+(B>>1)\n",
        "print(C)"
      ],
      "metadata": {
        "colab": {
          "base_uri": "https://localhost:8080/"
        },
        "id": "XXJ2VOuSzbfv",
        "outputId": "a46d18de-a3aa-4b35-9aed-fd608d15c0e4"
      },
      "execution_count": null,
      "outputs": [
        {
          "output_type": "stream",
          "name": "stdout",
          "text": [
            "7326\n",
            "-11\n",
            "18\n",
            "2.1666666666666665\n",
            "True\n",
            "False\n",
            "False\n",
            "True\n",
            "3 24\n",
            "22\n"
          ]
        }
      ]
    },
    {
      "cell_type": "code",
      "source": [
        "#PRACTICE QUESTIONS\n",
        "result1=(5+2)*((3+7)//5)**2\n",
        "print(result1)\n",
        "\n",
        "result2=(7%3==1)and 6*2==12\n",
        "print(result2)\n",
        "\n",
        "result3= 7>3 and not(2<4 or 5==5)\n",
        "print(result3)\n",
        "\n",
        "result4=not 2**3==8\n",
        "print(result4)\n",
        "\n",
        "result5=6&4|3==2+1\n",
        "print(result5)\n",
        "\n",
        "result6=(4<5 and not 7==7)or(10>5 and 3*3==9)\n",
        "print(result6)\n",
        "\n",
        "result7=(5 is 5)==(10==10)\n",
        "print(result7)"
      ],
      "metadata": {
        "colab": {
          "base_uri": "https://localhost:8080/"
        },
        "id": "29NbJv0cNhZf",
        "outputId": "87b8eee5-d6ee-44dd-dd0d-fd82331d7a82"
      },
      "execution_count": null,
      "outputs": [
        {
          "output_type": "stream",
          "name": "stdout",
          "text": [
            "28\n",
            "True\n",
            "False\n",
            "False\n",
            "False\n",
            "True\n",
            "True\n"
          ]
        },
        {
          "output_type": "stream",
          "name": "stderr",
          "text": [
            "<>:20: SyntaxWarning: \"is\" with a literal. Did you mean \"==\"?\n",
            "<>:20: SyntaxWarning: \"is\" with a literal. Did you mean \"==\"?\n",
            "<ipython-input-16-495c12d04a60>:20: SyntaxWarning: \"is\" with a literal. Did you mean \"==\"?\n",
            "  result7=(5 is 5)==(10==10)\n"
          ]
        }
      ]
    },
    {
      "cell_type": "code",
      "source": [
        "import math\n",
        "a=int(input(\"ENTER THE VALUES OF a:\"))\n",
        "b=int(input(\"ENTER THE VALUES OF b:\"))\n",
        "c=int(input(\"ENTER THE VALUES OF c:\"))\n",
        "d=b*b-4*a*c\n",
        "if d==0:\n",
        "  root1=(-b)/(2*a)\n",
        "  root2=root1\n",
        "  print(\"ROOTS ARE REAL AND EQUAL,ROOT1=\",root1,\"ROOT2=\",root2)\n",
        "elif d>0:\n",
        "  root1=(-b+math.sqrt(d))/(2*a)\n",
        "  root2=(-b-math.sqrt(d))/(2*a)\n",
        "  print(\"ROOTS ARE REAL AND DISTINCT,ROOT1=\",root1,\"ROOT2=\",root2)\n",
        "else:\n",
        "  print(\"ROOTS ARE IMAGINARY\")\n"
      ],
      "metadata": {
        "colab": {
          "base_uri": "https://localhost:8080/"
        },
        "id": "YunOEJFubAuL",
        "outputId": "98350f76-4f2f-4c9b-c960-d4d4a629e7e0"
      },
      "execution_count": null,
      "outputs": [
        {
          "output_type": "stream",
          "name": "stdout",
          "text": [
            "ENTER THE VALUES OF a:1\n",
            "ENTER THE VALUES OF b:0\n",
            "ENTER THE VALUES OF c:0\n",
            "ROOTS ARE REAL AND EQUAL,ROOT1= 0.0 ROOT2= 0.0\n"
          ]
        }
      ]
    },
    {
      "cell_type": "code",
      "source": [
        "m = int(input(\"enter the numbr of rows : \"))\n",
        "n = int(input(\"enter the number of columns : \"))\n",
        "matrix = []\n",
        "print(\"enter values in matrix : \")\n",
        "for i in range(m):\n",
        "  data = []\n",
        "  for j in range (n):\n",
        "    data.append(int(input()))\n",
        "  matrix.append(data)\n",
        "\n",
        "for i in range(m):\n",
        "  for j in range(n):\n",
        "    print(matrix[i][j],end=\" \")\n",
        "  print()\n",
        "for i in range(m):\n",
        "  sum = 0\n",
        "  for j in range(n):\n",
        "    sum = sum+matrix[i][j]\n",
        "  print(\"sum of row\",i+1,\":\",sum)"
      ],
      "metadata": {
        "colab": {
          "base_uri": "https://localhost:8080/"
        },
        "id": "XpRidt80dQ2_",
        "outputId": "36e7d298-7406-4d4b-b952-fe84af0e51df"
      },
      "execution_count": null,
      "outputs": [
        {
          "output_type": "stream",
          "name": "stdout",
          "text": [
            "enter the numbr of rows : 2\n",
            "enter the number of columns : 3\n",
            "enter values in matrix : \n",
            "1\n",
            "2\n",
            "3\n",
            "4\n",
            "5\n",
            "6\n",
            "1 2 3 \n",
            "4 5 6 \n",
            "sum of row 1 : 6\n",
            "sum of row 2 : 15\n"
          ]
        }
      ]
    },
    {
      "cell_type": "code",
      "source": [
        "import pandas as pd\n",
        "import matplotlib.pyplot as plt\n",
        "%matplotlib inline\n",
        "url='https://ibmice.s3.us-east-1.amazonaws.com/datasets/BostonHousingData.csv'\n",
        "df = pd.read_csv(url)"
      ],
      "metadata": {
        "id": "TJO1eONZffoZ"
      },
      "execution_count": 1,
      "outputs": []
    },
    {
      "cell_type": "code",
      "source": [
        "x = df.drop(labels=['MEDV'], axis=1)\n",
        "y = df['MEDV']\n"
      ],
      "metadata": {
        "id": "2dmd1uWRfxfC"
      },
      "execution_count": 2,
      "outputs": []
    },
    {
      "cell_type": "code",
      "source": [
        "df.head()"
      ],
      "metadata": {
        "colab": {
          "base_uri": "https://localhost:8080/",
          "height": 206
        },
        "id": "OPdul0jWWcNK",
        "outputId": "904796cd-f99a-4f47-9bec-220fd0204fdf"
      },
      "execution_count": 3,
      "outputs": [
        {
          "output_type": "execute_result",
          "data": {
            "text/plain": [
              "      CRIM    ZN  INDUS  CHAS    NOX     RM   AGE     DIS  RAD  TAX  PTRATIO  \\\n",
              "0  0.00632  18.0   2.31   0.0  0.538  6.575  65.2  4.0900    1  296     15.3   \n",
              "1  0.02731   0.0   7.07   0.0  0.469  6.421  78.9  4.9671    2  242     17.8   \n",
              "2  0.02729   0.0   7.07   0.0  0.469  7.185  61.1  4.9671    2  242     17.8   \n",
              "3  0.03237   0.0   2.18   0.0  0.458  6.998  45.8  6.0622    3  222     18.7   \n",
              "4  0.06905   0.0   2.18   0.0  0.458  7.147  54.2  6.0622    3  222     18.7   \n",
              "\n",
              "        B  LSTAT  MEDV  \n",
              "0  396.90   4.98  24.0  \n",
              "1  396.90   9.14  21.6  \n",
              "2  392.83   4.03  34.7  \n",
              "3  394.63   2.94  33.4  \n",
              "4  396.90    NaN  36.2  "
            ],
            "text/html": [
              "\n",
              "  <div id=\"df-fd08677b-4539-485d-b991-b7d4ebb38a0d\" class=\"colab-df-container\">\n",
              "    <div>\n",
              "<style scoped>\n",
              "    .dataframe tbody tr th:only-of-type {\n",
              "        vertical-align: middle;\n",
              "    }\n",
              "\n",
              "    .dataframe tbody tr th {\n",
              "        vertical-align: top;\n",
              "    }\n",
              "\n",
              "    .dataframe thead th {\n",
              "        text-align: right;\n",
              "    }\n",
              "</style>\n",
              "<table border=\"1\" class=\"dataframe\">\n",
              "  <thead>\n",
              "    <tr style=\"text-align: right;\">\n",
              "      <th></th>\n",
              "      <th>CRIM</th>\n",
              "      <th>ZN</th>\n",
              "      <th>INDUS</th>\n",
              "      <th>CHAS</th>\n",
              "      <th>NOX</th>\n",
              "      <th>RM</th>\n",
              "      <th>AGE</th>\n",
              "      <th>DIS</th>\n",
              "      <th>RAD</th>\n",
              "      <th>TAX</th>\n",
              "      <th>PTRATIO</th>\n",
              "      <th>B</th>\n",
              "      <th>LSTAT</th>\n",
              "      <th>MEDV</th>\n",
              "    </tr>\n",
              "  </thead>\n",
              "  <tbody>\n",
              "    <tr>\n",
              "      <th>0</th>\n",
              "      <td>0.00632</td>\n",
              "      <td>18.0</td>\n",
              "      <td>2.31</td>\n",
              "      <td>0.0</td>\n",
              "      <td>0.538</td>\n",
              "      <td>6.575</td>\n",
              "      <td>65.2</td>\n",
              "      <td>4.0900</td>\n",
              "      <td>1</td>\n",
              "      <td>296</td>\n",
              "      <td>15.3</td>\n",
              "      <td>396.90</td>\n",
              "      <td>4.98</td>\n",
              "      <td>24.0</td>\n",
              "    </tr>\n",
              "    <tr>\n",
              "      <th>1</th>\n",
              "      <td>0.02731</td>\n",
              "      <td>0.0</td>\n",
              "      <td>7.07</td>\n",
              "      <td>0.0</td>\n",
              "      <td>0.469</td>\n",
              "      <td>6.421</td>\n",
              "      <td>78.9</td>\n",
              "      <td>4.9671</td>\n",
              "      <td>2</td>\n",
              "      <td>242</td>\n",
              "      <td>17.8</td>\n",
              "      <td>396.90</td>\n",
              "      <td>9.14</td>\n",
              "      <td>21.6</td>\n",
              "    </tr>\n",
              "    <tr>\n",
              "      <th>2</th>\n",
              "      <td>0.02729</td>\n",
              "      <td>0.0</td>\n",
              "      <td>7.07</td>\n",
              "      <td>0.0</td>\n",
              "      <td>0.469</td>\n",
              "      <td>7.185</td>\n",
              "      <td>61.1</td>\n",
              "      <td>4.9671</td>\n",
              "      <td>2</td>\n",
              "      <td>242</td>\n",
              "      <td>17.8</td>\n",
              "      <td>392.83</td>\n",
              "      <td>4.03</td>\n",
              "      <td>34.7</td>\n",
              "    </tr>\n",
              "    <tr>\n",
              "      <th>3</th>\n",
              "      <td>0.03237</td>\n",
              "      <td>0.0</td>\n",
              "      <td>2.18</td>\n",
              "      <td>0.0</td>\n",
              "      <td>0.458</td>\n",
              "      <td>6.998</td>\n",
              "      <td>45.8</td>\n",
              "      <td>6.0622</td>\n",
              "      <td>3</td>\n",
              "      <td>222</td>\n",
              "      <td>18.7</td>\n",
              "      <td>394.63</td>\n",
              "      <td>2.94</td>\n",
              "      <td>33.4</td>\n",
              "    </tr>\n",
              "    <tr>\n",
              "      <th>4</th>\n",
              "      <td>0.06905</td>\n",
              "      <td>0.0</td>\n",
              "      <td>2.18</td>\n",
              "      <td>0.0</td>\n",
              "      <td>0.458</td>\n",
              "      <td>7.147</td>\n",
              "      <td>54.2</td>\n",
              "      <td>6.0622</td>\n",
              "      <td>3</td>\n",
              "      <td>222</td>\n",
              "      <td>18.7</td>\n",
              "      <td>396.90</td>\n",
              "      <td>NaN</td>\n",
              "      <td>36.2</td>\n",
              "    </tr>\n",
              "  </tbody>\n",
              "</table>\n",
              "</div>\n",
              "    <div class=\"colab-df-buttons\">\n",
              "\n",
              "  <div class=\"colab-df-container\">\n",
              "    <button class=\"colab-df-convert\" onclick=\"convertToInteractive('df-fd08677b-4539-485d-b991-b7d4ebb38a0d')\"\n",
              "            title=\"Convert this dataframe to an interactive table.\"\n",
              "            style=\"display:none;\">\n",
              "\n",
              "  <svg xmlns=\"http://www.w3.org/2000/svg\" height=\"24px\" viewBox=\"0 -960 960 960\">\n",
              "    <path d=\"M120-120v-720h720v720H120Zm60-500h600v-160H180v160Zm220 220h160v-160H400v160Zm0 220h160v-160H400v160ZM180-400h160v-160H180v160Zm440 0h160v-160H620v160ZM180-180h160v-160H180v160Zm440 0h160v-160H620v160Z\"/>\n",
              "  </svg>\n",
              "    </button>\n",
              "\n",
              "  <style>\n",
              "    .colab-df-container {\n",
              "      display:flex;\n",
              "      gap: 12px;\n",
              "    }\n",
              "\n",
              "    .colab-df-convert {\n",
              "      background-color: #E8F0FE;\n",
              "      border: none;\n",
              "      border-radius: 50%;\n",
              "      cursor: pointer;\n",
              "      display: none;\n",
              "      fill: #1967D2;\n",
              "      height: 32px;\n",
              "      padding: 0 0 0 0;\n",
              "      width: 32px;\n",
              "    }\n",
              "\n",
              "    .colab-df-convert:hover {\n",
              "      background-color: #E2EBFA;\n",
              "      box-shadow: 0px 1px 2px rgba(60, 64, 67, 0.3), 0px 1px 3px 1px rgba(60, 64, 67, 0.15);\n",
              "      fill: #174EA6;\n",
              "    }\n",
              "\n",
              "    .colab-df-buttons div {\n",
              "      margin-bottom: 4px;\n",
              "    }\n",
              "\n",
              "    [theme=dark] .colab-df-convert {\n",
              "      background-color: #3B4455;\n",
              "      fill: #D2E3FC;\n",
              "    }\n",
              "\n",
              "    [theme=dark] .colab-df-convert:hover {\n",
              "      background-color: #434B5C;\n",
              "      box-shadow: 0px 1px 3px 1px rgba(0, 0, 0, 0.15);\n",
              "      filter: drop-shadow(0px 1px 2px rgba(0, 0, 0, 0.3));\n",
              "      fill: #FFFFFF;\n",
              "    }\n",
              "  </style>\n",
              "\n",
              "    <script>\n",
              "      const buttonEl =\n",
              "        document.querySelector('#df-fd08677b-4539-485d-b991-b7d4ebb38a0d button.colab-df-convert');\n",
              "      buttonEl.style.display =\n",
              "        google.colab.kernel.accessAllowed ? 'block' : 'none';\n",
              "\n",
              "      async function convertToInteractive(key) {\n",
              "        const element = document.querySelector('#df-fd08677b-4539-485d-b991-b7d4ebb38a0d');\n",
              "        const dataTable =\n",
              "          await google.colab.kernel.invokeFunction('convertToInteractive',\n",
              "                                                    [key], {});\n",
              "        if (!dataTable) return;\n",
              "\n",
              "        const docLinkHtml = 'Like what you see? Visit the ' +\n",
              "          '<a target=\"_blank\" href=https://colab.research.google.com/notebooks/data_table.ipynb>data table notebook</a>'\n",
              "          + ' to learn more about interactive tables.';\n",
              "        element.innerHTML = '';\n",
              "        dataTable['output_type'] = 'display_data';\n",
              "        await google.colab.output.renderOutput(dataTable, element);\n",
              "        const docLink = document.createElement('div');\n",
              "        docLink.innerHTML = docLinkHtml;\n",
              "        element.appendChild(docLink);\n",
              "      }\n",
              "    </script>\n",
              "  </div>\n",
              "\n",
              "\n",
              "<div id=\"df-66fe9358-14a5-4fb0-b0bb-24c9821bcda3\">\n",
              "  <button class=\"colab-df-quickchart\" onclick=\"quickchart('df-66fe9358-14a5-4fb0-b0bb-24c9821bcda3')\"\n",
              "            title=\"Suggest charts\"\n",
              "            style=\"display:none;\">\n",
              "\n",
              "<svg xmlns=\"http://www.w3.org/2000/svg\" height=\"24px\"viewBox=\"0 0 24 24\"\n",
              "     width=\"24px\">\n",
              "    <g>\n",
              "        <path d=\"M19 3H5c-1.1 0-2 .9-2 2v14c0 1.1.9 2 2 2h14c1.1 0 2-.9 2-2V5c0-1.1-.9-2-2-2zM9 17H7v-7h2v7zm4 0h-2V7h2v10zm4 0h-2v-4h2v4z\"/>\n",
              "    </g>\n",
              "</svg>\n",
              "  </button>\n",
              "\n",
              "<style>\n",
              "  .colab-df-quickchart {\n",
              "      --bg-color: #E8F0FE;\n",
              "      --fill-color: #1967D2;\n",
              "      --hover-bg-color: #E2EBFA;\n",
              "      --hover-fill-color: #174EA6;\n",
              "      --disabled-fill-color: #AAA;\n",
              "      --disabled-bg-color: #DDD;\n",
              "  }\n",
              "\n",
              "  [theme=dark] .colab-df-quickchart {\n",
              "      --bg-color: #3B4455;\n",
              "      --fill-color: #D2E3FC;\n",
              "      --hover-bg-color: #434B5C;\n",
              "      --hover-fill-color: #FFFFFF;\n",
              "      --disabled-bg-color: #3B4455;\n",
              "      --disabled-fill-color: #666;\n",
              "  }\n",
              "\n",
              "  .colab-df-quickchart {\n",
              "    background-color: var(--bg-color);\n",
              "    border: none;\n",
              "    border-radius: 50%;\n",
              "    cursor: pointer;\n",
              "    display: none;\n",
              "    fill: var(--fill-color);\n",
              "    height: 32px;\n",
              "    padding: 0;\n",
              "    width: 32px;\n",
              "  }\n",
              "\n",
              "  .colab-df-quickchart:hover {\n",
              "    background-color: var(--hover-bg-color);\n",
              "    box-shadow: 0 1px 2px rgba(60, 64, 67, 0.3), 0 1px 3px 1px rgba(60, 64, 67, 0.15);\n",
              "    fill: var(--button-hover-fill-color);\n",
              "  }\n",
              "\n",
              "  .colab-df-quickchart-complete:disabled,\n",
              "  .colab-df-quickchart-complete:disabled:hover {\n",
              "    background-color: var(--disabled-bg-color);\n",
              "    fill: var(--disabled-fill-color);\n",
              "    box-shadow: none;\n",
              "  }\n",
              "\n",
              "  .colab-df-spinner {\n",
              "    border: 2px solid var(--fill-color);\n",
              "    border-color: transparent;\n",
              "    border-bottom-color: var(--fill-color);\n",
              "    animation:\n",
              "      spin 1s steps(1) infinite;\n",
              "  }\n",
              "\n",
              "  @keyframes spin {\n",
              "    0% {\n",
              "      border-color: transparent;\n",
              "      border-bottom-color: var(--fill-color);\n",
              "      border-left-color: var(--fill-color);\n",
              "    }\n",
              "    20% {\n",
              "      border-color: transparent;\n",
              "      border-left-color: var(--fill-color);\n",
              "      border-top-color: var(--fill-color);\n",
              "    }\n",
              "    30% {\n",
              "      border-color: transparent;\n",
              "      border-left-color: var(--fill-color);\n",
              "      border-top-color: var(--fill-color);\n",
              "      border-right-color: var(--fill-color);\n",
              "    }\n",
              "    40% {\n",
              "      border-color: transparent;\n",
              "      border-right-color: var(--fill-color);\n",
              "      border-top-color: var(--fill-color);\n",
              "    }\n",
              "    60% {\n",
              "      border-color: transparent;\n",
              "      border-right-color: var(--fill-color);\n",
              "    }\n",
              "    80% {\n",
              "      border-color: transparent;\n",
              "      border-right-color: var(--fill-color);\n",
              "      border-bottom-color: var(--fill-color);\n",
              "    }\n",
              "    90% {\n",
              "      border-color: transparent;\n",
              "      border-bottom-color: var(--fill-color);\n",
              "    }\n",
              "  }\n",
              "</style>\n",
              "\n",
              "  <script>\n",
              "    async function quickchart(key) {\n",
              "      const quickchartButtonEl =\n",
              "        document.querySelector('#' + key + ' button');\n",
              "      quickchartButtonEl.disabled = true;  // To prevent multiple clicks.\n",
              "      quickchartButtonEl.classList.add('colab-df-spinner');\n",
              "      try {\n",
              "        const charts = await google.colab.kernel.invokeFunction(\n",
              "            'suggestCharts', [key], {});\n",
              "      } catch (error) {\n",
              "        console.error('Error during call to suggestCharts:', error);\n",
              "      }\n",
              "      quickchartButtonEl.classList.remove('colab-df-spinner');\n",
              "      quickchartButtonEl.classList.add('colab-df-quickchart-complete');\n",
              "    }\n",
              "    (() => {\n",
              "      let quickchartButtonEl =\n",
              "        document.querySelector('#df-66fe9358-14a5-4fb0-b0bb-24c9821bcda3 button');\n",
              "      quickchartButtonEl.style.display =\n",
              "        google.colab.kernel.accessAllowed ? 'block' : 'none';\n",
              "    })();\n",
              "  </script>\n",
              "</div>\n",
              "\n",
              "    </div>\n",
              "  </div>\n"
            ],
            "application/vnd.google.colaboratory.intrinsic+json": {
              "type": "dataframe",
              "variable_name": "df",
              "summary": "{\n  \"name\": \"df\",\n  \"rows\": 506,\n  \"fields\": [\n    {\n      \"column\": \"CRIM\",\n      \"properties\": {\n        \"dtype\": \"number\",\n        \"std\": 8.720191850151599,\n        \"min\": 0.00632,\n        \"max\": 88.9762,\n        \"num_unique_values\": 484,\n        \"samples\": [\n          15.1772,\n          0.2896,\n          0.08308\n        ],\n        \"semantic_type\": \"\",\n        \"description\": \"\"\n      }\n    },\n    {\n      \"column\": \"ZN\",\n      \"properties\": {\n        \"dtype\": \"number\",\n        \"std\": 23.388876146265577,\n        \"min\": 0.0,\n        \"max\": 100.0,\n        \"num_unique_values\": 26,\n        \"samples\": [\n          25.0,\n          30.0,\n          18.0\n        ],\n        \"semantic_type\": \"\",\n        \"description\": \"\"\n      }\n    },\n    {\n      \"column\": \"INDUS\",\n      \"properties\": {\n        \"dtype\": \"number\",\n        \"std\": 6.835896498641465,\n        \"min\": 0.46,\n        \"max\": 27.74,\n        \"num_unique_values\": 76,\n        \"samples\": [\n          8.14,\n          1.47,\n          1.22\n        ],\n        \"semantic_type\": \"\",\n        \"description\": \"\"\n      }\n    },\n    {\n      \"column\": \"CHAS\",\n      \"properties\": {\n        \"dtype\": \"number\",\n        \"std\": 0.25534048090656764,\n        \"min\": 0.0,\n        \"max\": 1.0,\n        \"num_unique_values\": 2,\n        \"samples\": [\n          1.0,\n          0.0\n        ],\n        \"semantic_type\": \"\",\n        \"description\": \"\"\n      }\n    },\n    {\n      \"column\": \"NOX\",\n      \"properties\": {\n        \"dtype\": \"number\",\n        \"std\": 0.11587767566755611,\n        \"min\": 0.385,\n        \"max\": 0.871,\n        \"num_unique_values\": 81,\n        \"samples\": [\n          0.401,\n          0.538\n        ],\n        \"semantic_type\": \"\",\n        \"description\": \"\"\n      }\n    },\n    {\n      \"column\": \"RM\",\n      \"properties\": {\n        \"dtype\": \"number\",\n        \"std\": 0.7026171434153237,\n        \"min\": 3.561,\n        \"max\": 8.78,\n        \"num_unique_values\": 446,\n        \"samples\": [\n          6.849,\n          4.88\n        ],\n        \"semantic_type\": \"\",\n        \"description\": \"\"\n      }\n    },\n    {\n      \"column\": \"AGE\",\n      \"properties\": {\n        \"dtype\": \"number\",\n        \"std\": 27.999513005092375,\n        \"min\": 2.9,\n        \"max\": 100.0,\n        \"num_unique_values\": 348,\n        \"samples\": [\n          82.8,\n          88.4\n        ],\n        \"semantic_type\": \"\",\n        \"description\": \"\"\n      }\n    },\n    {\n      \"column\": \"DIS\",\n      \"properties\": {\n        \"dtype\": \"number\",\n        \"std\": 2.1057101266276104,\n        \"min\": 1.1296,\n        \"max\": 12.1265,\n        \"num_unique_values\": 412,\n        \"samples\": [\n          2.2955,\n          4.2515\n        ],\n        \"semantic_type\": \"\",\n        \"description\": \"\"\n      }\n    },\n    {\n      \"column\": \"RAD\",\n      \"properties\": {\n        \"dtype\": \"number\",\n        \"std\": 8,\n        \"min\": 1,\n        \"max\": 24,\n        \"num_unique_values\": 9,\n        \"samples\": [\n          7,\n          2\n        ],\n        \"semantic_type\": \"\",\n        \"description\": \"\"\n      }\n    },\n    {\n      \"column\": \"TAX\",\n      \"properties\": {\n        \"dtype\": \"number\",\n        \"std\": 168,\n        \"min\": 187,\n        \"max\": 711,\n        \"num_unique_values\": 66,\n        \"samples\": [\n          370,\n          666\n        ],\n        \"semantic_type\": \"\",\n        \"description\": \"\"\n      }\n    },\n    {\n      \"column\": \"PTRATIO\",\n      \"properties\": {\n        \"dtype\": \"number\",\n        \"std\": 2.164945523714446,\n        \"min\": 12.6,\n        \"max\": 22.0,\n        \"num_unique_values\": 46,\n        \"samples\": [\n          19.6,\n          15.6\n        ],\n        \"semantic_type\": \"\",\n        \"description\": \"\"\n      }\n    },\n    {\n      \"column\": \"B\",\n      \"properties\": {\n        \"dtype\": \"number\",\n        \"std\": 91.29486438415779,\n        \"min\": 0.32,\n        \"max\": 396.9,\n        \"num_unique_values\": 357,\n        \"samples\": [\n          396.24,\n          395.11\n        ],\n        \"semantic_type\": \"\",\n        \"description\": \"\"\n      }\n    },\n    {\n      \"column\": \"LSTAT\",\n      \"properties\": {\n        \"dtype\": \"number\",\n        \"std\": 7.155870815805249,\n        \"min\": 1.73,\n        \"max\": 37.97,\n        \"num_unique_values\": 438,\n        \"samples\": [\n          26.64,\n          7.51\n        ],\n        \"semantic_type\": \"\",\n        \"description\": \"\"\n      }\n    },\n    {\n      \"column\": \"MEDV\",\n      \"properties\": {\n        \"dtype\": \"number\",\n        \"std\": 9.19710408737982,\n        \"min\": 5.0,\n        \"max\": 50.0,\n        \"num_unique_values\": 229,\n        \"samples\": [\n          14.1,\n          22.5\n        ],\n        \"semantic_type\": \"\",\n        \"description\": \"\"\n      }\n    }\n  ]\n}"
            }
          },
          "metadata": {},
          "execution_count": 3
        }
      ]
    },
    {
      "cell_type": "code",
      "source": [
        "df.columns"
      ],
      "metadata": {
        "colab": {
          "base_uri": "https://localhost:8080/"
        },
        "id": "MheesI0qWfHE",
        "outputId": "a8802bfe-e84d-4c36-beb0-a300faed9992"
      },
      "execution_count": 4,
      "outputs": [
        {
          "output_type": "execute_result",
          "data": {
            "text/plain": [
              "Index(['CRIM', 'ZN', 'INDUS', 'CHAS', 'NOX', 'RM', 'AGE', 'DIS', 'RAD', 'TAX',\n",
              "       'PTRATIO', 'B', 'LSTAT', 'MEDV'],\n",
              "      dtype='object')"
            ]
          },
          "metadata": {},
          "execution_count": 4
        }
      ]
    },
    {
      "cell_type": "code",
      "source": [
        "from sklearn.model_selection import train_test_split\n",
        "X_train, X_test, y_train, y_test = train_test_split(x,y, test_size=0.3, random_state=0)\n",
        "X_train.shape, X_test.shape, X_train.shape[0]+X_test.shape[0]"
      ],
      "metadata": {
        "colab": {
          "base_uri": "https://localhost:8080/"
        },
        "id": "0u8NnRL4Wh36",
        "outputId": "811e9f90-5fde-4c1b-f8d9-49acaa64e2fc"
      },
      "execution_count": 5,
      "outputs": [
        {
          "output_type": "execute_result",
          "data": {
            "text/plain": [
              "((354, 13), (152, 13), 506)"
            ]
          },
          "metadata": {},
          "execution_count": 5
        }
      ]
    }
  ]
}